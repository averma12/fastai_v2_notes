{
  "nbformat": 4,
  "nbformat_minor": 0,
  "metadata": {
    "colab": {
      "name": "Core_python.ipynb",
      "version": "0.3.2",
      "provenance": [],
      "include_colab_link": true
    },
    "kernelspec": {
      "name": "python3",
      "display_name": "Python 3"
    }
  },
  "cells": [
    {
      "cell_type": "markdown",
      "metadata": {
        "id": "view-in-github",
        "colab_type": "text"
      },
      "source": [
        "<a href=\"https://colab.research.google.com/github/averma12/fastai_v2_notes/blob/master/Core_python.ipynb\" target=\"_parent\"><img src=\"https://colab.research.google.com/assets/colab-badge.svg\" alt=\"Open In Colab\"/></a>"
      ]
    },
    {
      "cell_type": "markdown",
      "metadata": {
        "id": "P00rjU4L-Zow",
        "colab_type": "text"
      },
      "source": [
        "**Metaclasses**\n",
        "\n",
        "The term metaprogramming refers to the potential for a program to have knowledge of or manipulate itself. Python supports a form of metaprogramming for classes called metaclasses.\n",
        "\n"
      ]
    },
    {
      "cell_type": "code",
      "metadata": {
        "id": "SvM4oQkT9dX8",
        "colab_type": "code",
        "colab": {
          "base_uri": "https://localhost:8080/",
          "height": 34
        },
        "outputId": "764b09a8-5a77-4671-d21d-76401430c15c"
      },
      "source": [
        "#Define a class in the traditional way\n",
        "class Foo:\n",
        "    pass\n",
        "\n",
        "x = Foo()\n",
        "x"
      ],
      "execution_count": 2,
      "outputs": [
        {
          "output_type": "execute_result",
          "data": {
            "text/plain": [
              "<__main__.Foo at 0x7f29d15cc8d0>"
            ]
          },
          "metadata": {
            "tags": []
          },
          "execution_count": 2
        }
      ]
    },
    {
      "cell_type": "code",
      "metadata": {
        "id": "D8A6p7M4_pEk",
        "colab_type": "code",
        "colab": {
          "base_uri": "https://localhost:8080/",
          "height": 34
        },
        "outputId": "27412fda-0e4c-4fd0-f431-c589e2ac2d08"
      },
      "source": [
        "#Define a class dynamically i.e a metaclass\n",
        "Foo = type('Foo',(),{})\n",
        "x = Foo()\n",
        "x"
      ],
      "execution_count": 3,
      "outputs": [
        {
          "output_type": "execute_result",
          "data": {
            "text/plain": [
              "<__main__.Foo at 0x7f29d15ccba8>"
            ]
          },
          "metadata": {
            "tags": []
          },
          "execution_count": 3
        }
      ]
    },
    {
      "cell_type": "code",
      "metadata": {
        "id": "PHUXM_HN_68Y",
        "colab_type": "code",
        "colab": {
          "base_uri": "https://localhost:8080/",
          "height": 34
        },
        "outputId": "f106b554-1f3d-4cd6-d22f-2a34bf547ddb"
      },
      "source": [
        "#Show inheritance dynamically\n",
        "Bar = type('Bar', (Foo,), dict(attr=100))\n",
        "\n",
        "x = Bar()\n",
        "x.attr"
      ],
      "execution_count": 4,
      "outputs": [
        {
          "output_type": "execute_result",
          "data": {
            "text/plain": [
              "100"
            ]
          },
          "metadata": {
            "tags": []
          },
          "execution_count": 4
        }
      ]
    },
    {
      "cell_type": "code",
      "metadata": {
        "id": "ACey6NVCABRx",
        "colab_type": "code",
        "colab": {
          "base_uri": "https://localhost:8080/",
          "height": 34
        },
        "outputId": "ecc2fac9-5986-4a15-ed90-37fc055bf6b1"
      },
      "source": [
        "x,x.__class__.__bases__"
      ],
      "execution_count": 8,
      "outputs": [
        {
          "output_type": "execute_result",
          "data": {
            "text/plain": [
              "(<__main__.Bar at 0x7f29d15ccd30>, (__main__.Foo,))"
            ]
          },
          "metadata": {
            "tags": []
          },
          "execution_count": 8
        }
      ]
    },
    {
      "cell_type": "code",
      "metadata": {
        "id": "naKR6eGNAPXE",
        "colab_type": "code",
        "colab": {
          "base_uri": "https://localhost:8080/",
          "height": 34
        },
        "outputId": "771a77d2-0c1f-4afb-ad7f-37258bafea38"
      },
      "source": [
        "class Bar(Foo):\n",
        "    attr = 100\n",
        "\n",
        "    \n",
        "x_ = Bar()\n",
        "x_.attr"
      ],
      "execution_count": 10,
      "outputs": [
        {
          "output_type": "execute_result",
          "data": {
            "text/plain": [
              "100"
            ]
          },
          "metadata": {
            "tags": []
          },
          "execution_count": 10
        }
      ]
    },
    {
      "cell_type": "code",
      "metadata": {
        "id": "jttksrKbAiXo",
        "colab_type": "code",
        "colab": {
          "base_uri": "https://localhost:8080/",
          "height": 34
        },
        "outputId": "1163c68f-bf89-4124-a916-73e1e5eb16cc"
      },
      "source": [
        "x_,x_.__class__.__bases__"
      ],
      "execution_count": 11,
      "outputs": [
        {
          "output_type": "execute_result",
          "data": {
            "text/plain": [
              "(<__main__.Bar at 0x7f29d1560160>, (__main__.Foo,))"
            ]
          },
          "metadata": {
            "tags": []
          },
          "execution_count": 11
        }
      ]
    },
    {
      "cell_type": "code",
      "metadata": {
        "id": "z4XPcvXCB_pc",
        "colab_type": "code",
        "colab": {}
      },
      "source": [
        "Foo = type(\n",
        "     'Foo',\n",
        "     (),\n",
        "     {\n",
        "         'attr': 100,\n",
        "         'attr_val': lambda x : x.attr\n",
        "     }\n",
        " )"
      ],
      "execution_count": 0,
      "outputs": []
    },
    {
      "cell_type": "code",
      "metadata": {
        "id": "dhJjChnVDxTr",
        "colab_type": "code",
        "colab": {}
      },
      "source": [
        "y = Foo()"
      ],
      "execution_count": 0,
      "outputs": []
    },
    {
      "cell_type": "code",
      "metadata": {
        "id": "bL5ElmVaDz4Z",
        "colab_type": "code",
        "colab": {
          "base_uri": "https://localhost:8080/",
          "height": 34
        },
        "outputId": "c200f696-fe91-4505-e07e-ea220884e890"
      },
      "source": [
        "y.attr_val"
      ],
      "execution_count": 17,
      "outputs": [
        {
          "output_type": "execute_result",
          "data": {
            "text/plain": [
              "<bound method <lambda> of <__main__.Foo object at 0x7f29d1560470>>"
            ]
          },
          "metadata": {
            "tags": []
          },
          "execution_count": 17
        }
      ]
    }
  ]
}